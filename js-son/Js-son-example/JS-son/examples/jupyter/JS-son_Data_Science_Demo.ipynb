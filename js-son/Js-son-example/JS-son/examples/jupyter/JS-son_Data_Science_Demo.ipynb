{
 "cells": [
  {
   "cell_type": "markdown",
   "metadata": {},
   "source": [
    "# *JS-son* - Data Science Demo\n",
    "This Jupyer notebook provides an example of how *[JS-son](https://github.com/TimKam/JS-son)* can be integrated with state-of-the-art *data science* tools: Jupyter notebooks and Python-based analytics libraries.\n",
    "\n",
    "## Introduction\n",
    "\n",
    "In this notebook, we implement a simple information spread simulation, using JS-son's full belief-desire-intention-plan approach and use Python tools to conduct an explorative data analysis of how changes in parameters affect the simulation results. The simulation is based on one of the tutorials we provide in the [*JS-son* README](https://github.com/TimKam/JS-son#belief-desire-intention-plan-approach).\n",
    "In this notebook, we simulate the spread of a single boolean belief among 100 agents in environments with different biases regarding the facilitation of the different opinion values.\n",
    "\n",
    "Belief spread is simulated as follows:\n",
    "\n",
    "* The scenario starts with each agent announcing their beliefs.\n",
    "\n",
    "* In each iteration, the environment distributes two belief announcements to each agent. Based on these beliefs and possibly (depending on the agent type) the past announcements the agent was exposed to, each agent *announces* a new belief: either ``true`` or ``false``.\n",
    "\n",
    "The agents are of two different agent types (``volatile`` and ``introspective``):\n",
    "\n",
    "1. Type ``volatile``: Volatile agents only consider their current belief and the latest belief set they received from the environment when deciding which belief to announce. Volatile agents are \"louder\", i.e. the environment is more likely to spread beliefs of volatile agents. We also add bias to the announcement spread function to favor ``true`` announcements.\n",
    "\n",
    "2. Type ``introspective``: In contrast to volatile agents, introspective agents consider the past five belief sets they have received, when deciding which belief they should announce. Introspective agents are \"less loud\", i.e. the environment is less likely to spread beliefs of volatile agents.\n",
    "\n",
    "The agent type distribution is 50, 50.\n",
    "However, 30 volatile and 20 introspective agents start with ``true`` as their belief, whereas 20 volatile and 30 introspective agents start with ``false`` as\n",
    "their belief.\n"
   ]
  },
  {
   "cell_type": "markdown",
   "metadata": {},
   "source": [
    "## Node.js - Python Interoperability\n",
    "First, we install and import the ``pixiedust_node`` Python package that allows interoperability between Node.js and Python in Jupyter notebooks:"
   ]
  },
  {
   "cell_type": "code",
   "execution_count": null,
   "metadata": {},
   "outputs": [],
   "source": [
    "%%capture\n",
    "# We are getting a lot of output here that we do not want to see.\n",
    "!pip install pixiedust_node\n",
    "import pixiedust_node"
   ]
  },
  {
   "cell_type": "markdown",
   "metadata": {},
   "source": [
    "## *JS-son* Scenario"
   ]
  },
  {
   "cell_type": "markdown",
   "metadata": {},
   "source": [
    "First, we need to install the *JS-son* (``js-son-agent``) node module:"
   ]
  },
  {
   "cell_type": "code",
   "execution_count": null,
   "metadata": {},
   "outputs": [],
   "source": [
    "npm.install('js-son-agent')"
   ]
  },
  {
   "cell_type": "markdown",
   "metadata": {},
   "source": [
    "Then, we import the *JS-son* dependencies:"
   ]
  },
  {
   "cell_type": "code",
   "execution_count": null,
   "metadata": {},
   "outputs": [],
   "source": [
    "%%capture\n",
    "%%node\n",
    "const {\n",
    "  Belief,\n",
    "  Desire,\n",
    "  Intentions,\n",
    "  Plan,\n",
    "  Agent,\n",
    "  Environment\n",
    "} = require('js-son-agent')"
   ]
  },
  {
   "cell_type": "markdown",
   "metadata": {},
   "source": [
    "We create the belief sets the agents start with:"
   ]
  },
  {
   "cell_type": "code",
   "execution_count": null,
   "metadata": {},
   "outputs": [],
   "source": [
    "%%node\n",
    "const beliefsTrue = {\n",
    "  ...Belief('keyBelief', true),\n",
    "  ...Belief('pastReceivedAnnouncements', [])\n",
    "}\n",
    "\n",
    "const beliefsFalse = {\n",
    "  ...Belief('keyBelief', false),\n",
    "  ...Belief('pastReceivedAnnouncements', [])\n",
    "}"
   ]
  },
  {
   "cell_type": "markdown",
   "metadata": {},
   "source": [
    "Now, we define the desires of the two agent types. Both agents base their announcement desires on\n",
    "the predominant belief in previous announcements (see the ``determinePredominantBelief`` function).\n",
    "However, volatile agents only consider the most recent round of announcements, while introspective\n",
    "agents consider the whole history they have available. If both ``true`` and ``false`` occur equally\n",
    "often in the considered announcement history, the currently held belief is considered to reach a\n",
    "decision."
   ]
  },
  {
   "cell_type": "code",
   "execution_count": null,
   "metadata": {},
   "outputs": [],
   "source": [
    "%%node\n",
    "const determinePredominantBelief = beliefs => {\n",
    "  const announcementsTrue = beliefs.pastReceivedAnnouncements.filter(\n",
    "    announcement => announcement\n",
    "  ).length\n",
    "  const announcementsFalse = beliefs.pastReceivedAnnouncements.filter(\n",
    "    announcement => !announcement\n",
    "  ).length\n",
    "  const predominantBelief = announcementsTrue > announcementsFalse ||\n",
    "    (announcementsTrue === announcementsFalse && beliefs.keyBelief)\n",
    "  return predominantBelief\n",
    "}\n",
    "\n",
    "const desiresVolatile = {\n",
    "  ...Desire('announceTrue', beliefs => {\n",
    "    const pastReceivedAnnouncements = beliefs.pastReceivedAnnouncements.length >= 5\n",
    "      ? beliefs.pastReceivedAnnouncements.slice(-5)\n",
    "      : new Array(5).fill(beliefs.keyBelief)\n",
    "    const recentBeliefs = {\n",
    "      ...beliefs,\n",
    "      pastReceivedAnnouncements\n",
    "    }\n",
    "    return determinePredominantBelief(recentBeliefs)\n",
    "  }),\n",
    "  ...Desire('announceFalse', beliefs => {\n",
    "    const pastReceivedAnnouncements = beliefs.pastReceivedAnnouncements.length >= 5\n",
    "      ? beliefs.pastReceivedAnnouncements.slice(-5)\n",
    "      : new Array(5).fill(beliefs.keyBelief)\n",
    "    const recentBeliefs = {\n",
    "      ...beliefs,\n",
    "      pastReceivedAnnouncements\n",
    "    }\n",
    "    return !determinePredominantBelief(recentBeliefs)\n",
    "  })\n",
    "}\n",
    "\n",
    "const desiresIntrospective = {\n",
    "  ...Desire('announceTrue', beliefs => determinePredominantBelief(beliefs)),\n",
    "  ...Desire('announceFalse', beliefs => !determinePredominantBelief(beliefs))\n",
    "}"
   ]
  },
  {
   "cell_type": "markdown",
   "metadata": {},
   "source": [
    "The agents desires are mutually exclusive. Hence, the agents' intentions merely relay their desires,\n",
    "which is reflected in the default preference function generator ``(beliefs, desires) => desireKey => desires[desireKey](beliefs)``.\n",
    "\n",
    "The agents' plans are to disseminate the announcement (``true`` or ``false``) as determined by the\n",
    "desire functions:"
   ]
  },
  {
   "cell_type": "code",
   "execution_count": null,
   "metadata": {},
   "outputs": [],
   "source": [
    "%%node\n",
    "const plans = [\n",
    "  Plan(intentions => intentions.announceTrue, () => [ { announce: true } ]),\n",
    "  Plan(intentions => intentions.announceFalse, () => [ { announce: false } ])\n",
    "]"
   ]
  },
  {
   "cell_type": "markdown",
   "metadata": {},
   "source": [
    "Before we instantiate the agents, we need to create an object for the environment's initial state.\n",
    "The object will be populated when the agents will be created:"
   ]
  },
  {
   "cell_type": "code",
   "execution_count": null,
   "metadata": {},
   "outputs": [],
   "source": [
    "%%node\n",
    "const state = {}"
   ]
  },
  {
   "cell_type": "markdown",
   "metadata": {},
   "source": [
    "To instantiate the agents according to the scenario specification, we create the following function:"
   ]
  },
  {
   "cell_type": "code",
   "execution_count": null,
   "metadata": {},
   "outputs": [],
   "source": [
    "%%node\n",
    "const createAgents = () => {\n",
    "  const agents = new Array(100).fill({}).map((_, index) => {\n",
    "    // assign agent types--introspective and volatile--to odd and even numbers, respectively:\n",
    "    const type = index % 2 === 0 ? 'volatile' : 'introspective'\n",
    "    const desires = type === 'volatile' ? desiresVolatile : desiresIntrospective\n",
    "    /* ``true`` as belief: 30 volatile and 20 introspective agents\n",
    "       ``false`` as belief: 20 volatile and 30 introspective agents:\n",
    "    */\n",
    "    const beliefs = (index < 50 && index % 2 === 0) || (index < 40 && index % 2 !== 0) ? beliefsTrue\n",
    "      : beliefsFalse\n",
    "    // add agent belief to the environment's state:\n",
    "    state[`${type}${index}`] = { keyBelief: beliefs.keyBelief }\n",
    "    // create agent:\n",
    "    return new Agent(\n",
    "      `${type}${index}`,\n",
    "      { ...beliefs, ...Belief('type', type) },\n",
    "      desires,\n",
    "      plans\n",
    "    )\n",
    "  })\n",
    "  const numberBeliefsTrue = Object.keys(state).filter(\n",
    "    agentId => state[agentId].keyBelief\n",
    "  ).length\n",
    "  const numberBeliefsFalse = Object.keys(state).filter(\n",
    "    agentId => !state[agentId].keyBelief\n",
    "  ).length\n",
    "  console.log(`True: ${numberBeliefsTrue}; False: ${numberBeliefsFalse}`)\n",
    "  return agents\n",
    "}"
   ]
  },
  {
   "cell_type": "markdown",
   "metadata": {},
   "source": [
    "To define how the environment processes agent actions, we implement the ``updateState`` function.\n",
    "The function takes an agent's actions, as well as the agent ID and the current state to determine\n",
    "the environment's state update that is merged into the new state\n",
    "``state = { ...state, ...stateUpdate }``:"
   ]
  },
  {
   "cell_type": "code",
   "execution_count": null,
   "metadata": {},
   "outputs": [],
   "source": [
    "%%node\n",
    "const updateState = (actions, agentId, currentState) => {\n",
    "  const stateUpdate = {}\n",
    "  actions.forEach(action => {\n",
    "    stateUpdate[agentId] = {\n",
    "      keyBelief: action.find(action => action.announce !== undefined).announce\n",
    "    }\n",
    "  })\n",
    "  return stateUpdate\n",
    "}"
   ]
  },
  {
   "cell_type": "markdown",
   "metadata": {},
   "source": [
    "We simulate a partially observable world: via the environment's ``stateFilter`` function, we\n",
    "determine an array of five belief announcements that should be made available to an agent. As\n",
    "described in the specification, announcements of volatile agents will be \"amplified\": i.e., the\n",
    "function pseudo-randomly picks 3 announcements of volatile agents and 2 announcements of\n",
    "introspective agents. In addition, we add bias may facilitate either ``true`` of ``false``announcements: we implement a ``stateFilterGenerator`` function that can create state filters with different biases:"
   ]
  },
  {
   "cell_type": "code",
   "execution_count": null,
   "metadata": {},
   "outputs": [],
   "source": [
    "%%node\n",
    "const stateFilterGenerator = bias => (state, agentKey, agentBeliefs) => {\n",
    "  const volatileAnnouncements = []\n",
    "  const introspectiveAnnouncements = []\n",
    "  Object.keys(state).forEach(key => {\n",
    "    if (key.includes('volatile')) {\n",
    "      volatileAnnouncements.push(state[key].keyBelief)\n",
    "    } else {\n",
    "      introspectiveAnnouncements.push(state[key].keyBelief)\n",
    "    }\n",
    "  })\n",
    "  const recentVolatileAnnouncements = volatileAnnouncements.sort(\n",
    "    () => 0.5 - Math.random()\n",
    "  ).slice(0, 3)\n",
    "  const recentIntrospectiveAnnouncements = introspectiveAnnouncements.sort(\n",
    "    () => 0.5 - Math.random()\n",
    "  ).slice(0, 2)\n",
    "  // add some noise\n",
    "  let noise = Object.keys(state).filter(agentId => state[agentId].keyBelief).length < (79 - bias) * Math.random() ? [true] : []\n",
    "  noise = Object.keys(state).filter(agentId => state[agentId].keyBelief).length < bias * Math.random() ? [false] : noise\n",
    "  // combine announcements\n",
    "  const pastReceivedAnnouncements =\n",
    "    recentVolatileAnnouncements.concat(\n",
    "      recentIntrospectiveAnnouncements, agentBeliefs.pastReceivedAnnouncements, noise\n",
    "    )\n",
    "  return { pastReceivedAnnouncements, keyBelief: state[agentKey].keyBelief }\n",
    "}"
   ]
  },
  {
   "cell_type": "markdown",
   "metadata": {},
   "source": [
    "The last function we need is ``render()``. In our case, we simply log the number of announcements\n",
    "of ``true`` and ``false`` to the console:"
   ]
  },
  {
   "cell_type": "code",
   "execution_count": null,
   "metadata": {},
   "outputs": [],
   "source": [
    "%%node\n",
    "const render = state => {\n",
    "  const numberBeliefsTrue = Object.keys(state).filter(\n",
    "    agentId => state[agentId].keyBelief\n",
    "  ).length\n",
    "  const numberBeliefsFalse = Object.keys(state).filter(\n",
    "    agentId => !state[agentId].keyBelief\n",
    "  ).length\n",
    "  console.log(`True: ${numberBeliefsTrue}; False: ${numberBeliefsFalse}`)\n",
    "}\n"
   ]
  },
  {
   "cell_type": "markdown",
   "metadata": {},
   "source": [
    "We want to explore how different biases affect the simulation results (belief spread in the agent society). We generate 20 state filters with different biases:"
   ]
  },
  {
   "cell_type": "code",
   "execution_count": null,
   "metadata": {},
   "outputs": [],
   "source": [
    "%%node\n",
    "const stateFilters = new Array(20).fill(0).map((_, index) => stateFilterGenerator(20  + index))"
   ]
  },
  {
   "cell_type": "markdown",
   "metadata": {},
   "source": [
    "We instantiate the environments with the specified agents, state, update function, render\n",
    "function, and **different** ``stateFilter`` functions:"
   ]
  },
  {
   "cell_type": "code",
   "execution_count": null,
   "metadata": {},
   "outputs": [],
   "source": [
    "%%node\n",
    "var histories = stateFilters.map(stateFilter => new Environment(\n",
    "  createAgents(),\n",
    "  state,\n",
    "  updateState,\n",
    "  render,\n",
    "  stateFilter\n",
    ").run(20));"
   ]
  },
  {
   "cell_type": "markdown",
   "metadata": {},
   "source": [
    "## Analytics\n",
    "To analyze the simulation data, we switch to Python tools.\n",
    "We import a set of data management and visualization libraries:"
   ]
  },
  {
   "cell_type": "code",
   "execution_count": null,
   "metadata": {},
   "outputs": [],
   "source": [
    "%%capture\n",
    "import pandas as pd\n",
    "from ipywidgets import interact, interactive, fixed, interact_manual\n",
    "import ipywidgets as widgets\n",
    "import matplotlib.pyplot as plt\n",
    "import seaborn as sns\n",
    "import time\n",
    "while not 'histories' in globals():\n",
    "  time.sleep(1); # Unfortunately, we have wait for Node.js and Python to sync\n"
   ]
  },
  {
   "cell_type": "markdown",
   "metadata": {},
   "source": [
    "Next, we parse the data from Python dictionaries (as provided by the Node.js - Python interface) to a dictionary, that can later be turned into a ``pandas`` dataframes:"
   ]
  },
  {
   "cell_type": "code",
   "execution_count": null,
   "metadata": {},
   "outputs": [],
   "source": [
    "belief_summaries = []\n",
    "for history in histories:\n",
    "    beliefs_true_history = []\n",
    "    beliefs_false_history = []\n",
    "    for envState in enumerate(history):\n",
    "        beliefs_true_count = 0\n",
    "        beliefs_false_count = 0\n",
    "        for key in envState[1].keys():\n",
    "            if envState[1][key]['keyBelief']:\n",
    "                beliefs_true_count += 1\n",
    "            else:\n",
    "                beliefs_false_count +=1     \n",
    "        beliefs_true_history.append(beliefs_true_count)\n",
    "        beliefs_false_history.append(beliefs_false_count)\n",
    "\n",
    "    belief_summary = {\n",
    "        'true': beliefs_true_history,\n",
    "        'false': beliefs_false_history,\n",
    "    }\n",
    "    belief_summaries.append(belief_summary);\n",
    "    "
   ]
  },
  {
   "cell_type": "markdown",
   "metadata": {},
   "source": [
    "Finally, we instantiate an interactive widget that allows comparing time series charts with different environment biases:"
   ]
  },
  {
   "cell_type": "code",
   "execution_count": null,
   "metadata": {},
   "outputs": [],
   "source": [
    "def f(bias_1, bias_2):\n",
    "    belief_summary_df_1 = pd.DataFrame(belief_summaries[bias_1])\n",
    "    label_1 = 'true (bias: ' + str(bias_1) + ')'\n",
    "    label_2 = 'false (bias: ' + str(bias_1) + ')'\n",
    "    label_3 = 'true (bias: ' + str(bias_2) + ')'\n",
    "    label_4 = 'false (bias: ' + str(bias_2) + ')'\n",
    "    belief_summary_df_1.columns = [label_1, label_2]\n",
    "    belief_summary_df_2 = pd.DataFrame(belief_summaries[bias_2])\n",
    "    belief_summary_df_2.columns = [label_3, label_4]\n",
    "    sns.lineplot(data=[belief_summary_df_1[label_1], belief_summary_df_1[label_2],\n",
    "                       belief_summary_df_2[label_3], belief_summary_df_2[label_4]])\n",
    "    \n",
    "interact(\n",
    "    f,\n",
    "    bias_1=widgets.IntSlider(min=0,max=19,step=1,value=0),\n",
    "    bias_2=widgets.IntSlider(min=0,max=19,step=1,value=19)\n",
    ");"
   ]
  },
  {
   "cell_type": "code",
   "execution_count": null,
   "metadata": {},
   "outputs": [],
   "source": []
  }
 ],
 "metadata": {
  "kernelspec": {
   "display_name": "Python 2",
   "language": "python",
   "name": "python2"
  },
  "language_info": {
   "codemirror_mode": {
    "name": "ipython",
    "version": 3
   },
   "file_extension": ".py",
   "mimetype": "text/x-python",
   "name": "python",
   "nbconvert_exporter": "python",
   "pygments_lexer": "ipython3",
   "version": "3.6.5"
  }
 },
 "nbformat": 4,
 "nbformat_minor": 2
}
